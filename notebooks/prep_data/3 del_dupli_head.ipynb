{
 "cells": [
  {
   "cell_type": "markdown",
   "id": "fdfab38a",
   "metadata": {},
   "source": [
    "# Retrait des doublons de header"
   ]
  },
  {
   "cell_type": "code",
   "execution_count": 13,
   "id": "42edbc1a",
   "metadata": {
    "ExecuteTime": {
     "end_time": "2022-06-15T20:56:27.523628Z",
     "start_time": "2022-06-15T20:56:27.504528Z"
    }
   },
   "outputs": [
    {
     "name": "stdout",
     "output_type": "stream",
     "text": [
      "The autoreload extension is already loaded. To reload it, use:\n",
      "  %reload_ext autoreload\n"
     ]
    }
   ],
   "source": [
    "%load_ext autoreload\n",
    "%autoreload 2 \n",
    "import matplotlib.pyplot as plt\n",
    "import os\n",
    "import numpy as np\n",
    "import pandas as pd\n",
    "from pprint import pprint\n",
    "from projetressourcesagricoles.data import * \n",
    "from projetressourcesagricoles.params import * "
   ]
  },
  {
   "cell_type": "code",
   "execution_count": 14,
   "id": "454ea84f",
   "metadata": {
    "ExecuteTime": {
     "end_time": "2022-06-15T20:56:40.837307Z",
     "start_time": "2022-06-15T20:56:40.823084Z"
    }
   },
   "outputs": [],
   "source": [
    "dosTrav = \"/home/mickh/code/mathieudimartino/projet-ressources-agricoles/raw_data/FAO/par_codePays\"\n",
    "dosStie = \"/home/mickh/code/mathieudimartino/projet-ressources-agricoles/raw_data/FAO/tmp\""
   ]
  },
  {
   "cell_type": "code",
   "execution_count": 15,
   "id": "a2da7cae",
   "metadata": {
    "ExecuteTime": {
     "end_time": "2022-06-15T20:56:42.274498Z",
     "start_time": "2022-06-15T20:56:42.258195Z"
    },
    "scrolled": true
   },
   "outputs": [],
   "source": [
    "liste_years = ['y' + str(y) for y in range(1961, 2021)]"
   ]
  },
  {
   "cell_type": "code",
   "execution_count": 17,
   "id": "5747f4df",
   "metadata": {
    "ExecuteTime": {
     "end_time": "2022-06-15T21:03:46.873658Z",
     "start_time": "2022-06-15T20:57:04.646180Z"
    }
   },
   "outputs": [
    {
     "name": "stdout",
     "output_type": "stream",
     "text": [
      "1 133.csv\n",
      "2 210.csv\n",
      "3 250.csv\n",
      "4 98.csv\n",
      "5 68.csv\n",
      "6 37.csv\n",
      "7 251.csv\n",
      "8 35.csv\n",
      "9 52.csv\n",
      "10 200.csv\n",
      "11 225.csv\n",
      "12 3.csv\n",
      "13 215.csv\n",
      "14 196.csv\n",
      "15 13.csv\n",
      "16 57.csv\n",
      "17 20.csv\n",
      "18 124.csv\n",
      "19 60.csv\n",
      "20 33.csv\n",
      "21 121.csv\n",
      "22 220.csv\n",
      "23 87.csv\n",
      "24 73.csv\n",
      "25 107.csv\n",
      "26 74.csv\n",
      "27 9.csv\n",
      "28 63.csv\n",
      "29 207.csv\n",
      "30 222.csv\n",
      "31 40.csv\n",
      "32 184.csv\n",
      "33 183.csv\n",
      "34 174.csv\n",
      "35 23.csv\n",
      "36 19.csv\n",
      "37 165.csv\n",
      "38 21.csv\n",
      "39 143.csv\n",
      "40 45.csv\n",
      "41 15.csv\n",
      "42 26.csv\n",
      "43 217.csv\n",
      "44 153.csv\n",
      "45 96.csv\n",
      "46 104.csv\n",
      "47 198.csv\n",
      "48 203.csv\n",
      "49 79.csv\n",
      "50 4.csv\n",
      "51 137.csv\n",
      "52 90.csv\n",
      "53 227.csv\n",
      "54 46.csv\n",
      "55 216.csv\n",
      "56 195.csv\n",
      "57 110.csv\n",
      "58 27.csv\n",
      "59 229.csv\n",
      "60 130.csv\n",
      "61 189.csv\n",
      "62 170.csv\n",
      "63 162.csv\n",
      "64 48.csv\n",
      "65 64.csv\n",
      "66 126.csv\n",
      "67 147.csv\n",
      "68 129.csv\n",
      "69 236.csv\n",
      "70 256.csv\n",
      "71 2.csv\n",
      "72 62.csv\n",
      "73 248.csv\n",
      "74 181.csv\n",
      "75 41.csv\n",
      "76 95.csv\n",
      "77 25.csv\n",
      "78 141.csv\n",
      "79 55.csv\n",
      "80 99.csv\n",
      "81 146.csv\n",
      "82 128.csv\n",
      "83 84.csv\n",
      "84 81.csv\n",
      "85 108.csv\n",
      "86 83.csv\n",
      "87 66.csv\n",
      "88 50.csv\n",
      "89 10.csv\n",
      "90 69.csv\n",
      "91 211.csv\n",
      "92 223.csv\n",
      "93 131.csv\n",
      "94 134.csv\n",
      "95 155.csv\n",
      "96 138.csv\n",
      "97 150.csv\n",
      "98 179.csv\n",
      "99 72.csv\n",
      "100 226.csv\n",
      "101 53.csv\n",
      "102 169.csv\n",
      "103 117.csv\n",
      "104 80.csv\n",
      "105 156.csv\n",
      "106 249.csv\n",
      "107 167.csv\n",
      "108 86.csv\n",
      "109 132.csv\n",
      "110 209.csv\n",
      "111 115.csv\n",
      "112 159.csv\n",
      "113 212.csv\n",
      "114 59.csv\n",
      "115 11.csv\n",
      "116 14.csv\n",
      "117 119.csv\n",
      "118 101.csv\n",
      "119 149.csv\n",
      "120 173.csv\n",
      "121 97.csv\n",
      "122 214.csv\n",
      "123 58.csv\n",
      "124 1.csv\n",
      "125 188.csv\n",
      "126 106.csv\n",
      "127 70.csv\n",
      "128 47.csv\n",
      "129 171.csv\n",
      "130 38.csv\n",
      "131 8.csv\n",
      "132 185.csv\n",
      "133 91.csv\n",
      "134 273.csv\n",
      "135 199.csv\n",
      "136 255.csv\n",
      "137 166.csv\n",
      "138 100.csv\n",
      "139 206.csv\n",
      "140 157.csv\n",
      "141 18.csv\n",
      "142 75.csv\n",
      "143 135.csv\n",
      "144 234.csv\n",
      "145 231.csv\n",
      "146 158.csv\n",
      "147 49.csv\n",
      "148 89.csv\n",
      "149 186.csv\n",
      "150 118.csv\n",
      "151 272.csv\n",
      "152 168.csv\n",
      "153 54.csv\n",
      "154 154.csv\n",
      "155 194.csv\n",
      "156 12.csv\n",
      "157 230.csv\n",
      "158 105.csv\n",
      "159 202.csv\n",
      "160 197.csv\n",
      "161 182.csv\n",
      "162 238.csv\n",
      "163 67.csv\n",
      "164 233.csv\n",
      "165 114.csv\n",
      "166 228.csv\n",
      "167 219.csv\n",
      "168 191.csv\n",
      "169 32.csv\n",
      "170 102.csv\n",
      "171 109.csv\n",
      "172 112.csv\n",
      "173 29.csv\n",
      "174 44.csv\n",
      "175 193.csv\n",
      "176 113.csv\n",
      "177 16.csv\n",
      "178 221.csv\n",
      "179 136.csv\n",
      "**************** Terminé \n"
     ]
    }
   ],
   "source": [
    "numFich = 0\n",
    "for nomFich in os.listdir(dosTrav):\n",
    "    numFich += 1\n",
    "    print(numFich, nomFich)\n",
    "    chFich = os.path.join(dosTrav, nomFich)\n",
    "    df = pd.read_csv(chFich, low_memory=False)\n",
    "\n",
    "    df = df[df['Code Produit']!='Code Produit']\n",
    "    \n",
    "    \"\"\"for year in liste_years:\n",
    "        df[year] = df[year].astype('int')\"\"\"\n",
    "\n",
    "    chFichOut = os.path.join(dosStie, nomFich)\n",
    "    df.to_csv(chFichOut, mode='w', index=False)\n",
    "        \n",
    "print('**************** Terminé ')"
   ]
  },
  {
   "cell_type": "code",
   "execution_count": null,
   "id": "ec1a4b27",
   "metadata": {},
   "outputs": [],
   "source": []
  }
 ],
 "metadata": {
  "kernelspec": {
   "display_name": "Python 3 (ipykernel)",
   "language": "python",
   "name": "python3"
  },
  "language_info": {
   "codemirror_mode": {
    "name": "ipython",
    "version": 3
   },
   "file_extension": ".py",
   "mimetype": "text/x-python",
   "name": "python",
   "nbconvert_exporter": "python",
   "pygments_lexer": "ipython3",
   "version": "3.8.12"
  },
  "toc": {
   "base_numbering": 1,
   "nav_menu": {},
   "number_sections": true,
   "sideBar": true,
   "skip_h1_title": true,
   "title_cell": "Table of Contents",
   "title_sidebar": "Contents",
   "toc_cell": false,
   "toc_position": {},
   "toc_section_display": true,
   "toc_window_display": false
  },
  "varInspector": {
   "cols": {
    "lenName": 16,
    "lenType": 16,
    "lenVar": 40
   },
   "kernels_config": {
    "python": {
     "delete_cmd_postfix": "",
     "delete_cmd_prefix": "del ",
     "library": "var_list.py",
     "varRefreshCmd": "print(var_dic_list())"
    },
    "r": {
     "delete_cmd_postfix": ") ",
     "delete_cmd_prefix": "rm(",
     "library": "var_list.r",
     "varRefreshCmd": "cat(var_dic_list()) "
    }
   },
   "types_to_exclude": [
    "module",
    "function",
    "builtin_function_or_method",
    "instance",
    "_Feature"
   ],
   "window_display": false
  }
 },
 "nbformat": 4,
 "nbformat_minor": 5
}
