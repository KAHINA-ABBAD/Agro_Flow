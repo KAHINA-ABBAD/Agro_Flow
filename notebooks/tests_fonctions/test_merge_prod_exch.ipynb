{
 "cells": [
  {
   "cell_type": "code",
   "execution_count": 7,
   "id": "0d6652d9",
   "metadata": {
    "ExecuteTime": {
     "end_time": "2022-06-17T10:19:48.337881Z",
     "start_time": "2022-06-17T10:19:48.324883Z"
    }
   },
   "outputs": [
    {
     "name": "stdout",
     "output_type": "stream",
     "text": [
      "The autoreload extension is already loaded. To reload it, use:\n",
      "  %reload_ext autoreload\n"
     ]
    }
   ],
   "source": [
    "%load_ext autoreload\n",
    "%autoreload 2\n",
    "\n",
    "import os"
   ]
  },
  {
   "cell_type": "code",
   "execution_count": 3,
   "id": "92149cfc",
   "metadata": {
    "ExecuteTime": {
     "end_time": "2022-06-17T10:18:44.850695Z",
     "start_time": "2022-06-17T10:18:44.838985Z"
    }
   },
   "outputs": [],
   "source": [
    "sys.path[:0] = [\"/home/mickh/code/mathieudimartino/projet-ressources-agricoles\"]"
   ]
  },
  {
   "cell_type": "code",
   "execution_count": 8,
   "id": "deb13265",
   "metadata": {
    "ExecuteTime": {
     "end_time": "2022-06-17T10:21:03.148274Z",
     "start_time": "2022-06-17T10:21:03.127352Z"
    }
   },
   "outputs": [],
   "source": [
    "from projetressourcesagricoles.data import *\n",
    "from projetressourcesagricoles.params import *"
   ]
  },
  {
   "cell_type": "code",
   "execution_count": 5,
   "id": "c081106a",
   "metadata": {
    "ExecuteTime": {
     "end_time": "2022-06-17T10:18:55.421823Z",
     "start_time": "2022-06-17T10:18:55.408172Z"
    }
   },
   "outputs": [],
   "source": [
    "countrycodes_list = 1\n",
    "countrycodes_list = [1, 2, 3, 68]"
   ]
  },
  {
   "cell_type": "code",
   "execution_count": 10,
   "id": "388f2318",
   "metadata": {
    "ExecuteTime": {
     "end_time": "2022-06-17T10:22:33.949155Z",
     "start_time": "2022-06-17T10:22:33.912248Z"
    }
   },
   "outputs": [
    {
     "ename": "OSError",
     "evalue": "Impossible de trouver 1.",
     "output_type": "error",
     "traceback": [
      "\u001b[0;31m---------------------------------------------------------------------------\u001b[0m",
      "\u001b[0;31mOSError\u001b[0m                                   Traceback (most recent call last)",
      "Input \u001b[0;32mIn [10]\u001b[0m, in \u001b[0;36m<cell line: 1>\u001b[0;34m()\u001b[0m\n\u001b[0;32m----> 1\u001b[0m merge_df \u001b[38;5;241m=\u001b[39m \u001b[43mmerge_prod_exch\u001b[49m\u001b[43m(\u001b[49m\u001b[43mcountrycodes_list\u001b[49m\u001b[43m)\u001b[49m\n",
      "File \u001b[0;32m~/code/mathieudimartino/projet-ressources-agricoles/projetressourcesagricoles/data.py:64\u001b[0m, in \u001b[0;36mmerge_prod_exch\u001b[0;34m(countrycodes_list)\u001b[0m\n\u001b[1;32m     62\u001b[0m     country_df \u001b[38;5;241m=\u001b[39m df_prod\n\u001b[1;32m     63\u001b[0m \u001b[38;5;28;01melse\u001b[39;00m:\n\u001b[0;32m---> 64\u001b[0m     \u001b[38;5;28;01mraise\u001b[39;00m \u001b[38;5;167;01mIOError\u001b[39;00m(\u001b[38;5;124m\"\u001b[39m\u001b[38;5;124mImpossible de trouver \u001b[39m\u001b[38;5;132;01m{}\u001b[39;00m\u001b[38;5;124m.\u001b[39m\u001b[38;5;124m\"\u001b[39m\u001b[38;5;241m.\u001b[39mformat(countrycode))\n\u001b[1;32m     66\u001b[0m country_df \u001b[38;5;241m=\u001b[39m country_df[country_df[\u001b[38;5;124m'\u001b[39m\u001b[38;5;124mCode Produit\u001b[39m\u001b[38;5;124m'\u001b[39m]\u001b[38;5;241m!=\u001b[39m\u001b[38;5;124m'\u001b[39m\u001b[38;5;124mCode Produit\u001b[39m\u001b[38;5;124m'\u001b[39m]\n\u001b[1;32m     67\u001b[0m merged_df \u001b[38;5;241m=\u001b[39m pd\u001b[38;5;241m.\u001b[39mconcat([merged_df, country_df])\n",
      "\u001b[0;31mOSError\u001b[0m: Impossible de trouver 1."
     ]
    }
   ],
   "source": [
    "merge_df = merge_prod_exch(countrycodes_list)"
   ]
  },
  {
   "cell_type": "code",
   "execution_count": 7,
   "id": "38366551",
   "metadata": {
    "ExecuteTime": {
     "end_time": "2022-06-16T14:25:44.637647Z",
     "start_time": "2022-06-16T14:25:43.918104Z"
    }
   },
   "outputs": [],
   "source": [
    "merge_df.to_csv(os.path.join(TMP_FOLDER, 'merged.csv'), index=False)"
   ]
  },
  {
   "cell_type": "code",
   "execution_count": null,
   "id": "cb9a0e11",
   "metadata": {},
   "outputs": [],
   "source": []
  }
 ],
 "metadata": {
  "kernelspec": {
   "display_name": "Python 3 (ipykernel)",
   "language": "python",
   "name": "python3"
  },
  "language_info": {
   "codemirror_mode": {
    "name": "ipython",
    "version": 3
   },
   "file_extension": ".py",
   "mimetype": "text/x-python",
   "name": "python",
   "nbconvert_exporter": "python",
   "pygments_lexer": "ipython3",
   "version": "3.8.12"
  },
  "toc": {
   "base_numbering": 1,
   "nav_menu": {},
   "number_sections": true,
   "sideBar": true,
   "skip_h1_title": true,
   "title_cell": "Table of Contents",
   "title_sidebar": "Contents",
   "toc_cell": false,
   "toc_position": {},
   "toc_section_display": true,
   "toc_window_display": false
  },
  "varInspector": {
   "cols": {
    "lenName": 16,
    "lenType": 16,
    "lenVar": 40
   },
   "kernels_config": {
    "python": {
     "delete_cmd_postfix": "",
     "delete_cmd_prefix": "del ",
     "library": "var_list.py",
     "varRefreshCmd": "print(var_dic_list())"
    },
    "r": {
     "delete_cmd_postfix": ") ",
     "delete_cmd_prefix": "rm(",
     "library": "var_list.r",
     "varRefreshCmd": "cat(var_dic_list()) "
    }
   },
   "types_to_exclude": [
    "module",
    "function",
    "builtin_function_or_method",
    "instance",
    "_Feature"
   ],
   "window_display": false
  }
 },
 "nbformat": 4,
 "nbformat_minor": 5
}
