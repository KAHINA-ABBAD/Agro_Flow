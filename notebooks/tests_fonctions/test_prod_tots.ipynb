{
 "cells": [
  {
   "cell_type": "code",
   "execution_count": 39,
   "id": "853e7eec",
   "metadata": {
    "ExecuteTime": {
     "end_time": "2022-06-21T21:22:57.544421Z",
     "start_time": "2022-06-21T21:22:57.517726Z"
    }
   },
   "outputs": [
    {
     "name": "stdout",
     "output_type": "stream",
     "text": [
      "The autoreload extension is already loaded. To reload it, use:\n",
      "  %reload_ext autoreload\n"
     ]
    }
   ],
   "source": [
    "%load_ext autoreload\n",
    "%autoreload 2\n",
    "from projetressourcesagricoles.data import get_data\n",
    "from projetressourcesagricoles.pays import *"
   ]
  },
  {
   "cell_type": "code",
   "execution_count": 28,
   "id": "ef717a16",
   "metadata": {
    "ExecuteTime": {
     "end_time": "2022-06-21T20:52:50.855596Z",
     "start_time": "2022-06-21T20:52:46.251384Z"
    }
   },
   "outputs": [
    {
     "name": "stdout",
     "output_type": "stream",
     "text": [
      "CPU times: user 3 µs, sys: 1e+03 ns, total: 4 µs\n",
      "Wall time: 6.68 µs\n"
     ]
    },
    {
     "data": {
      "text/plain": [
       "{2010: 126787466.0,\n",
       " 2011: 132841347.0,\n",
       " 2012: 129064333.0,\n",
       " 2013: 128434927.0,\n",
       " 2014: 141317651.0,\n",
       " 2015: 136015676.0,\n",
       " 2016: 118343203.0,\n",
       " 2017: 146310903.0,\n",
       " 2018: 131477644.0,\n",
       " 2019: 136967374.0,\n",
       " 2020: 0.0}"
      ]
     },
     "execution_count": 28,
     "metadata": {},
     "output_type": "execute_result"
    }
   ],
   "source": [
    "%time\n",
    "get_tot_prods_rangey(68, 2010)"
   ]
  },
  {
   "cell_type": "code",
   "execution_count": 40,
   "id": "452fecee",
   "metadata": {
    "ExecuteTime": {
     "end_time": "2022-06-21T21:23:51.892842Z",
     "start_time": "2022-06-21T21:23:01.507702Z"
    }
   },
   "outputs": [
    {
     "name": "stdout",
     "output_type": "stream",
     "text": [
      "Unexpected exception formatting exception. Falling back to standard exception\n"
     ]
    },
    {
     "name": "stderr",
     "output_type": "stream",
     "text": [
      "Traceback (most recent call last):\n",
      "  File \"/home/mickh/.pyenv/versions/3.8.12/envs/projet-ressources-agricoles/lib/python3.8/site-packages/IPython/core/interactiveshell.py\", line 3398, in run_code\n",
      "    exec(code_obj, self.user_global_ns, self.user_ns)\n",
      "  File \"/tmp/ipykernel_9658/2662010569.py\", line 1, in <cell line: 1>\n",
      "    get_tot_transits_rangey(68, 2011, 2018)\n",
      "  File \"/home/mickh/code/mathieudimartino/projet-ressources-agricoles/projetressourcesagricoles/pays.py\", line 35, in get_tot_transits_rangey\n",
      "    fig = px.histogram(x=dict_exports.keys(), y=zip(dict_imports.values(),dict_exports.values()))\n",
      "  File \"/home/mickh/.pyenv/versions/3.8.12/envs/projet-ressources-agricoles/lib/python3.8/site-packages/plotly/express/_chart_types.py\", line 477, in histogram\n",
      "    return make_figure(\n",
      "  File \"/home/mickh/.pyenv/versions/3.8.12/envs/projet-ressources-agricoles/lib/python3.8/site-packages/plotly/express/_core.py\", line 1948, in make_figure\n",
      "    args = build_dataframe(args, constructor)\n",
      "  File \"/home/mickh/.pyenv/versions/3.8.12/envs/projet-ressources-agricoles/lib/python3.8/site-packages/plotly/express/_core.py\", line 1405, in build_dataframe\n",
      "    df_output, wide_id_vars = process_args_into_dataframe(\n",
      "  File \"/home/mickh/.pyenv/versions/3.8.12/envs/projet-ressources-agricoles/lib/python3.8/site-packages/plotly/express/_core.py\", line 1137, in process_args_into_dataframe\n",
      "    else [field_name + \"_\" + str(i) for i in range(len(argument_list))]\n",
      "TypeError: object of type 'zip' has no len()\n",
      "\n",
      "During handling of the above exception, another exception occurred:\n",
      "\n",
      "Traceback (most recent call last):\n",
      "  File \"/home/mickh/.pyenv/versions/3.8.12/envs/projet-ressources-agricoles/lib/python3.8/site-packages/IPython/core/interactiveshell.py\", line 1993, in showtraceback\n",
      "    stb = self.InteractiveTB.structured_traceback(\n",
      "  File \"/home/mickh/.pyenv/versions/3.8.12/envs/projet-ressources-agricoles/lib/python3.8/site-packages/IPython/core/ultratb.py\", line 1118, in structured_traceback\n",
      "    return FormattedTB.structured_traceback(\n",
      "  File \"/home/mickh/.pyenv/versions/3.8.12/envs/projet-ressources-agricoles/lib/python3.8/site-packages/IPython/core/ultratb.py\", line 1012, in structured_traceback\n",
      "    return VerboseTB.structured_traceback(\n",
      "  File \"/home/mickh/.pyenv/versions/3.8.12/envs/projet-ressources-agricoles/lib/python3.8/site-packages/IPython/core/ultratb.py\", line 865, in structured_traceback\n",
      "    formatted_exception = self.format_exception_as_a_whole(etype, evalue, etb, number_of_lines_of_context,\n",
      "  File \"/home/mickh/.pyenv/versions/3.8.12/envs/projet-ressources-agricoles/lib/python3.8/site-packages/IPython/core/ultratb.py\", line 818, in format_exception_as_a_whole\n",
      "    frames.append(self.format_record(r))\n",
      "  File \"/home/mickh/.pyenv/versions/3.8.12/envs/projet-ressources-agricoles/lib/python3.8/site-packages/IPython/core/ultratb.py\", line 736, in format_record\n",
      "    result += ''.join(_format_traceback_lines(frame_info.lines, Colors, self.has_colors, lvals))\n",
      "  File \"/home/mickh/.pyenv/versions/3.8.12/envs/projet-ressources-agricoles/lib/python3.8/site-packages/stack_data/utils.py\", line 145, in cached_property_wrapper\n",
      "    value = obj.__dict__[self.func.__name__] = self.func(obj)\n",
      "  File \"/home/mickh/.pyenv/versions/3.8.12/envs/projet-ressources-agricoles/lib/python3.8/site-packages/stack_data/core.py\", line 698, in lines\n",
      "    pieces = self.included_pieces\n",
      "  File \"/home/mickh/.pyenv/versions/3.8.12/envs/projet-ressources-agricoles/lib/python3.8/site-packages/stack_data/utils.py\", line 145, in cached_property_wrapper\n",
      "    value = obj.__dict__[self.func.__name__] = self.func(obj)\n",
      "  File \"/home/mickh/.pyenv/versions/3.8.12/envs/projet-ressources-agricoles/lib/python3.8/site-packages/stack_data/core.py\", line 649, in included_pieces\n",
      "    pos = scope_pieces.index(self.executing_piece)\n",
      "  File \"/home/mickh/.pyenv/versions/3.8.12/envs/projet-ressources-agricoles/lib/python3.8/site-packages/stack_data/utils.py\", line 145, in cached_property_wrapper\n",
      "    value = obj.__dict__[self.func.__name__] = self.func(obj)\n",
      "  File \"/home/mickh/.pyenv/versions/3.8.12/envs/projet-ressources-agricoles/lib/python3.8/site-packages/stack_data/core.py\", line 628, in executing_piece\n",
      "    return only(\n",
      "  File \"/home/mickh/.pyenv/versions/3.8.12/envs/projet-ressources-agricoles/lib/python3.8/site-packages/executing/executing.py\", line 164, in only\n",
      "    raise NotOneValueFound('Expected one value, found 0')\n",
      "executing.executing.NotOneValueFound: Expected one value, found 0\n"
     ]
    }
   ],
   "source": [
    "get_tot_transits_rangey(68, 2011, 2018)"
   ]
  },
  {
   "cell_type": "code",
   "execution_count": null,
   "id": "e19788dc",
   "metadata": {},
   "outputs": [],
   "source": []
  }
 ],
 "metadata": {
  "kernelspec": {
   "display_name": "Python 3 (ipykernel)",
   "language": "python",
   "name": "python3"
  },
  "language_info": {
   "codemirror_mode": {
    "name": "ipython",
    "version": 3
   },
   "file_extension": ".py",
   "mimetype": "text/x-python",
   "name": "python",
   "nbconvert_exporter": "python",
   "pygments_lexer": "ipython3",
   "version": "3.8.12"
  },
  "toc": {
   "base_numbering": 1,
   "nav_menu": {},
   "number_sections": true,
   "sideBar": true,
   "skip_h1_title": true,
   "title_cell": "Table of Contents",
   "title_sidebar": "Contents",
   "toc_cell": false,
   "toc_position": {},
   "toc_section_display": true,
   "toc_window_display": false
  },
  "varInspector": {
   "cols": {
    "lenName": 16,
    "lenType": 16,
    "lenVar": 40
   },
   "kernels_config": {
    "python": {
     "delete_cmd_postfix": "",
     "delete_cmd_prefix": "del ",
     "library": "var_list.py",
     "varRefreshCmd": "print(var_dic_list())"
    },
    "r": {
     "delete_cmd_postfix": ") ",
     "delete_cmd_prefix": "rm(",
     "library": "var_list.r",
     "varRefreshCmd": "cat(var_dic_list()) "
    }
   },
   "types_to_exclude": [
    "module",
    "function",
    "builtin_function_or_method",
    "instance",
    "_Feature"
   ],
   "window_display": false
  }
 },
 "nbformat": 4,
 "nbformat_minor": 5
}
