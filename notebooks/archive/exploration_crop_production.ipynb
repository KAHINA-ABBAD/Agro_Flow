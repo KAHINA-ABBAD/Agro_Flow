{
 "cells": [
  {
   "cell_type": "markdown",
   "metadata": {},
   "source": [
    "# Agriculture Crop Production\n",
    "[https://data.world/agriculture/crop-production](https://data.world/agriculture/crop-production)"
   ]
  },
  {
   "cell_type": "code",
   "execution_count": 3,
   "metadata": {},
   "outputs": [],
   "source": [
    "import pandas as pd\n",
    "from glob import glob"
   ]
  },
  {
   "cell_type": "code",
   "execution_count": 4,
   "metadata": {},
   "outputs": [],
   "source": [
    "## DATA\n",
    "# area_code\n",
    "# area\n",
    "# item_code\n",
    "# item\n",
    "# element_code\n",
    "# element\n",
    "# unit\n",
    "# y1961  ==>> données\n",
    "# y1961f ==>> Flag pour cette donnée ( voir flags_df )\n",
    "# y1962\n",
    "# y1962f\n",
    "# y1963,\n",
    "# y1963f\n",
    "# ....\n",
    "# y2019\n",
    "\n",
    "prod_df = pd.DataFrame()\n",
    "for csv_file in glob('data/prod*.csv'):\n",
    "    prod_df = pd.concat([prod_df, pd.read_csv(csv_file)])\n",
    "\n",
    "\n",
    "## UNITS\n",
    "# unit_name, description\n",
    "units = pd.read_csv('data/units.csv')\n",
    "\n",
    "## ITEMS\n",
    "# domain_code, \n",
    "# domain, \n",
    "# item_code, \n",
    "# item, \n",
    "# description, \n",
    "# hs_code, \n",
    "# hs07_code, \n",
    "# hs12_code, \n",
    "# cpc_code\n",
    "items_df = pd.read_csv('data/items.csv')\n",
    "\n",
    "## FLAG, \n",
    "#  flag description (ex : Calculated data, Data not available, ...)\n",
    "flags_df = pd.read_csv('data/flags.csv')\n",
    "\n",
    "## ELEMENTS \n",
    "# domain_code, domain, element_code, element, unit\n",
    "elements_df = pd.read_csv('data/elements.csv') \n"
   ]
  },
  {
   "cell_type": "code",
   "execution_count": 21,
   "metadata": {},
   "outputs": [
    {
     "data": {
      "text/html": [
       "<div>\n",
       "<style scoped>\n",
       "    .dataframe tbody tr th:only-of-type {\n",
       "        vertical-align: middle;\n",
       "    }\n",
       "\n",
       "    .dataframe tbody tr th {\n",
       "        vertical-align: top;\n",
       "    }\n",
       "\n",
       "    .dataframe thead th {\n",
       "        text-align: right;\n",
       "    }\n",
       "</style>\n",
       "<table border=\"1\" class=\"dataframe\">\n",
       "  <thead>\n",
       "    <tr style=\"text-align: right;\">\n",
       "      <th></th>\n",
       "      <th>area_code</th>\n",
       "      <th>area</th>\n",
       "      <th>item_code</th>\n",
       "      <th>item</th>\n",
       "      <th>element_code</th>\n",
       "      <th>element</th>\n",
       "      <th>unit</th>\n",
       "      <th>y1961</th>\n",
       "      <th>y1961f</th>\n",
       "      <th>y1962</th>\n",
       "      <th>...</th>\n",
       "      <th>y2015</th>\n",
       "      <th>y2015f</th>\n",
       "      <th>y2016</th>\n",
       "      <th>y2016f</th>\n",
       "      <th>y2017</th>\n",
       "      <th>y2017f</th>\n",
       "      <th>y2018</th>\n",
       "      <th>y2018f</th>\n",
       "      <th>y2019</th>\n",
       "      <th>y2019f</th>\n",
       "    </tr>\n",
       "  </thead>\n",
       "  <tbody>\n",
       "    <tr>\n",
       "      <th>4501</th>\n",
       "      <td>106</td>\n",
       "      <td>Italy</td>\n",
       "      <td>515</td>\n",
       "      <td>Apples</td>\n",
       "      <td>5510</td>\n",
       "      <td>Production</td>\n",
       "      <td>tonnes</td>\n",
       "      <td>2167000.0</td>\n",
       "      <td>NaN</td>\n",
       "      <td>2182000.0</td>\n",
       "      <td>...</td>\n",
       "      <td>2473608.0</td>\n",
       "      <td>NaN</td>\n",
       "      <td>2455616.0</td>\n",
       "      <td>NaN</td>\n",
       "      <td>1921272.0</td>\n",
       "      <td>NaN</td>\n",
       "      <td>2466990.0</td>\n",
       "      <td>NaN</td>\n",
       "      <td>2303690.0</td>\n",
       "      <td>NaN</td>\n",
       "    </tr>\n",
       "  </tbody>\n",
       "</table>\n",
       "<p>1 rows × 125 columns</p>\n",
       "</div>"
      ],
      "text/plain": [
       "      area_code   area  item_code    item  element_code     element    unit  \\\n",
       "4501        106  Italy        515  Apples          5510  Production  tonnes   \n",
       "\n",
       "          y1961 y1961f      y1962  ...      y2015  y2015f      y2016  y2016f  \\\n",
       "4501  2167000.0    NaN  2182000.0  ...  2473608.0     NaN  2455616.0     NaN   \n",
       "\n",
       "          y2017  y2017f      y2018  y2018f      y2019  y2019f  \n",
       "4501  1921272.0     NaN  2466990.0     NaN  2303690.0     NaN  \n",
       "\n",
       "[1 rows x 125 columns]"
      ]
     },
     "execution_count": 21,
     "metadata": {},
     "output_type": "execute_result"
    }
   ],
   "source": [
    "prod_df.query('item_code == 515 and area == \"Italy\" and element == \"Production\"')"
   ]
  },
  {
   "cell_type": "code",
   "execution_count": 11,
   "metadata": {},
   "outputs": [
    {
     "data": {
      "text/plain": [
       "175"
      ]
     },
     "execution_count": 11,
     "metadata": {},
     "output_type": "execute_result"
    }
   ],
   "source": [
    "len(prod_df['item_code'].unique())"
   ]
  },
  {
   "cell_type": "code",
   "execution_count": 35,
   "metadata": {},
   "outputs": [
    {
     "data": {
      "text/plain": [
       "area            \n",
       "China, mainland     398\n",
       "Mexico              373\n",
       "Spain               361\n",
       "Peru                330\n",
       "Bulgaria            330\n",
       "                   ... \n",
       "Tuvalu               27\n",
       "Tokelau              27\n",
       "China, Macao SAR     23\n",
       "Marshall Islands     12\n",
       "Faroe Islands         6\n",
       "Length: 210, dtype: int64"
      ]
     },
     "execution_count": 35,
     "metadata": {},
     "output_type": "execute_result"
    }
   ],
   "source": [
    "prod_df[['area']].value_counts()"
   ]
  },
  {
   "cell_type": "markdown",
   "metadata": {},
   "source": [
    "# Dossiers\n",
    "What's the difference ??\n",
    "- un dossier **data**\n",
    "- un dossier **original**\n",
    "\n",
    "# Datasets\n",
    "## Data **Production_crops_***\n",
    "\n",
    "- **area_code**\n",
    "  - 210 valeurs\n",
    "- **area**\n",
    "  - 210\n",
    "- **item_code**\n",
    "- **item**\n",
    "- **element_code**\n",
    "- **element**\n",
    "- **unit**\n",
    "- **y1961  ==>> données**\n",
    "- **y1961f ==>> Flag pour cette donnée ( voir flags_df )**\n",
    "- **y1962**\n",
    "- **y1962f**\n",
    "- **y1963,**\n",
    "- **y1963f**\n",
    "- **....**\n",
    "- **y2019**\n",
    "\n"
   ]
  },
  {
   "cell_type": "markdown",
   "metadata": {},
   "source": []
  }
 ],
 "metadata": {
  "interpreter": {
   "hash": "4524aa1957c8c9fcf4e7e61006a450062f2be8409c604e08a5f6d2eb83f1b3f9"
  },
  "kernelspec": {
   "display_name": "Python 3.8.12 64-bit ('shims')",
   "language": "python",
   "name": "python3"
  },
  "language_info": {
   "codemirror_mode": {
    "name": "ipython",
    "version": 3
   },
   "file_extension": ".py",
   "mimetype": "text/x-python",
   "name": "python",
   "nbconvert_exporter": "python",
   "pygments_lexer": "ipython3",
   "version": "3.8.12"
  },
  "orig_nbformat": 4
 },
 "nbformat": 4,
 "nbformat_minor": 2
}
