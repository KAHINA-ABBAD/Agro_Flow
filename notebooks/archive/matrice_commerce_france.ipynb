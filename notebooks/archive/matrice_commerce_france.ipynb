{
 "cells": [
  {
   "cell_type": "code",
   "execution_count": 1,
   "metadata": {
    "ExecuteTime": {
     "end_time": "2022-06-13T13:15:47.977149Z",
     "start_time": "2022-06-13T13:15:47.762355Z"
    }
   },
   "outputs": [],
   "source": [
    "import pandas as pd"
   ]
  },
  {
   "cell_type": "code",
   "execution_count": 3,
   "metadata": {
    "ExecuteTime": {
     "end_time": "2022-06-13T13:17:34.467224Z",
     "start_time": "2022-06-13T13:17:33.496125Z"
    }
   },
   "outputs": [
    {
     "name": "stderr",
     "output_type": "stream",
     "text": [
      "<ipython-input-3-0a9410aac103>:1: DtypeWarning: Columns (10,12,14,16,18,20,22,24,26,30,34,36,42,44,52,60,66,74) have mixed types. Specify dtype option on import or set low_memory=False.\n",
      "  matrice_france_df = pd.read_csv('../raw_data/matrice_commerce_france.csv')\n"
     ]
    }
   ],
   "source": [
    "matrice_france_df = pd.read_csv('../raw_data/matrice_commerce_france.csv')\n",
    "# matrice_france_df.drop(columns='Unnamed: 0').to_csv('../raw_data/matrice_commerce_france2.csv', index=False)\n"
   ]
  },
  {
   "cell_type": "code",
   "execution_count": 4,
   "metadata": {
    "ExecuteTime": {
     "end_time": "2022-06-13T13:17:43.636540Z",
     "start_time": "2022-06-13T13:17:43.621429Z"
    }
   },
   "outputs": [
    {
     "data": {
      "text/plain": [
       "Index(['Code pays déclarant', 'Pays déclarants', 'Code pays partenaire',\n",
       "       'Pays partenaires', 'Code Produit', 'Produit', 'Code Élément',\n",
       "       'Élément', 'Unité', 'Y1986', 'Y1986F', 'Y1987', 'Y1987F', 'Y1988',\n",
       "       'Y1988F', 'Y1989', 'Y1989F', 'Y1990', 'Y1990F', 'Y1991', 'Y1991F',\n",
       "       'Y1992', 'Y1992F', 'Y1993', 'Y1993F', 'Y1994', 'Y1994F', 'Y1995',\n",
       "       'Y1995F', 'Y1996', 'Y1996F', 'Y1997', 'Y1997F', 'Y1998', 'Y1998F',\n",
       "       'Y1999', 'Y1999F', 'Y2000', 'Y2000F', 'Y2001', 'Y2001F', 'Y2002',\n",
       "       'Y2002F', 'Y2003', 'Y2003F', 'Y2004', 'Y2004F', 'Y2005', 'Y2005F',\n",
       "       'Y2006', 'Y2006F', 'Y2007', 'Y2007F', 'Y2008', 'Y2008F', 'Y2009',\n",
       "       'Y2009F', 'Y2010', 'Y2010F', 'Y2011', 'Y2011F', 'Y2012', 'Y2012F',\n",
       "       'Y2013', 'Y2013F', 'Y2014', 'Y2014F', 'Y2015', 'Y2015F', 'Y2016',\n",
       "       'Y2016F', 'Y2017', 'Y2017F', 'Y2018', 'Y2018F', 'Y2019', 'Y2019F',\n",
       "       'Y2020', 'Y2020F'],\n",
       "      dtype='object')"
      ]
     },
     "execution_count": 4,
     "metadata": {},
     "output_type": "execute_result"
    }
   ],
   "source": [
    "matrice_france_df.columns"
   ]
  },
  {
   "cell_type": "markdown",
   "metadata": {},
   "source": [
    "## Structure\n",
    " \n",
    "- Code pays déclarant\n",
    "- Pays déclarants \n",
    "- Code pays partenaire  \n",
    "- Pays partenaires\n",
    "- Code Élément\n",
    "  - 'Importations - Quantité'\n",
    "  - 'Importations - Valeur'\n",
    "  - 'Exportation - Quantité'\n",
    "  - 'Exportation - Valeur'\n",
    "- Élément\n",
    "- Unité \n",
    "- Y__année__\n",
    "- Y__année_F__   -->> flag sur les données\n"
   ]
  },
  {
   "cell_type": "code",
   "execution_count": null,
   "metadata": {},
   "outputs": [],
   "source": []
  }
 ],
 "metadata": {
  "kernelspec": {
   "display_name": "Python 3 (ipykernel)",
   "language": "python",
   "name": "python3"
  },
  "language_info": {
   "codemirror_mode": {
    "name": "ipython",
    "version": 3
   },
   "file_extension": ".py",
   "mimetype": "text/x-python",
   "name": "python",
   "nbconvert_exporter": "python",
   "pygments_lexer": "ipython3",
   "version": "3.8.12"
  },
  "toc": {
   "base_numbering": 1,
   "nav_menu": {},
   "number_sections": true,
   "sideBar": true,
   "skip_h1_title": true,
   "title_cell": "Table of Contents",
   "title_sidebar": "Contents",
   "toc_cell": false,
   "toc_position": {},
   "toc_section_display": true,
   "toc_window_display": false
  },
  "varInspector": {
   "cols": {
    "lenName": 16,
    "lenType": 16,
    "lenVar": 40
   },
   "kernels_config": {
    "python": {
     "delete_cmd_postfix": "",
     "delete_cmd_prefix": "del ",
     "library": "var_list.py",
     "varRefreshCmd": "print(var_dic_list())"
    },
    "r": {
     "delete_cmd_postfix": ") ",
     "delete_cmd_prefix": "rm(",
     "library": "var_list.r",
     "varRefreshCmd": "cat(var_dic_list()) "
    }
   },
   "types_to_exclude": [
    "module",
    "function",
    "builtin_function_or_method",
    "instance",
    "_Feature"
   ],
   "window_display": false
  },
  "vscode": {
   "interpreter": {
    "hash": "83e1578a6d19d1cf89d58e0131ae8248f5551a56325a53cbd881ac5347959793"
   }
  }
 },
 "nbformat": 4,
 "nbformat_minor": 2
}
