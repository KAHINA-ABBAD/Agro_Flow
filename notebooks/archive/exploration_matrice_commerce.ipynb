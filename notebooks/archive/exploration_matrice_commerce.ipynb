{
 "cells": [
  {
   "cell_type": "markdown",
   "metadata": {},
   "source": [
    "# Exploration Matrice du commerce traduite en fraçais\n",
    "https://www.fao.org/faostat/fr/#data/TM\n"
   ]
  },
  {
   "cell_type": "code",
   "execution_count": 127,
   "metadata": {},
   "outputs": [
    {
     "name": "stdout",
     "output_type": "stream",
     "text": [
      "The autoreload extension is already loaded. To reload it, use:\n",
      "  %reload_ext autoreload\n"
     ]
    }
   ],
   "source": [
    "%load_ext autoreload\n",
    "%autoreload 2 \n",
    "import pandas as pd\n",
    "import numpy as np\n",
    "import geopandas as gpd\n",
    "import matplotlib.pyplot as plt\n",
    "import matplotlib.patches as mpatches\n",
    "import seaborn as sns\n",
    "\n",
    "import utils.iodf as iodf\n",
    "import utils.exchange_plots as xplt\n",
    "import utils.crops as crops\n"
   ]
  },
  {
   "cell_type": "markdown",
   "metadata": {},
   "source": []
  },
  {
   "cell_type": "markdown",
   "metadata": {},
   "source": [
    "## Structure\n",
    "\n",
    "- Code Domaine\n",
    "- Domaine  \n",
    "- Code pays déclarant (FAO)\n",
    "- Pays déclarants \n",
    "- Code pays partenaire (FAO)  \n",
    "- Pays partenaires\n",
    "- Code Élément\n",
    "  - 'Importations - Quantité'\n",
    "  - 'Importations - Valeur'\n",
    "  - 'Exportation - Quantité'\n",
    "  - 'Exportation - Valeur'\n",
    "- Élément\n",
    "- Code Produit (FAO) \n",
    "- Produit  \n",
    "- Code année  \n",
    "- Année \n",
    "- Unité \n",
    "- Valeur\n",
    "- Symbole  \n",
    "- Description du Symbole\n"
   ]
  },
  {
   "cell_type": "markdown",
   "metadata": {},
   "source": [
    "## Traduction des codes pays\n",
    "Les données de carto comportent les codes pays en iso_a3 et les données un code pays FAO\n",
    "fichier excel de correspondance ici https://www.fao.org/nocs/en\n",
    "- le fichier codespays_fao_isoa3.csv sert pour la correspondance"
   ]
  },
  {
   "cell_type": "code",
   "execution_count": 49,
   "metadata": {},
   "outputs": [
    {
     "data": {
      "text/html": [
       "<div>\n",
       "<style scoped>\n",
       "    .dataframe tbody tr th:only-of-type {\n",
       "        vertical-align: middle;\n",
       "    }\n",
       "\n",
       "    .dataframe tbody tr th {\n",
       "        vertical-align: top;\n",
       "    }\n",
       "\n",
       "    .dataframe thead th {\n",
       "        text-align: right;\n",
       "    }\n",
       "</style>\n",
       "<table border=\"1\" class=\"dataframe\">\n",
       "  <thead>\n",
       "    <tr style=\"text-align: right;\">\n",
       "      <th></th>\n",
       "      <th>ISO3</th>\n",
       "      <th>FAOSTAT</th>\n",
       "      <th>LIST NAME</th>\n",
       "    </tr>\n",
       "  </thead>\n",
       "  <tbody>\n",
       "    <tr>\n",
       "      <th>0</th>\n",
       "      <td>AFG</td>\n",
       "      <td>2</td>\n",
       "      <td>Afghanistan</td>\n",
       "    </tr>\n",
       "    <tr>\n",
       "      <th>2</th>\n",
       "      <td>ALB</td>\n",
       "      <td>3</td>\n",
       "      <td>Albania</td>\n",
       "    </tr>\n",
       "  </tbody>\n",
       "</table>\n",
       "</div>"
      ],
      "text/plain": [
       "  ISO3  FAOSTAT    LIST NAME\n",
       "0  AFG        2  Afghanistan\n",
       "2  ALB        3      Albania"
      ]
     },
     "execution_count": 49,
     "metadata": {},
     "output_type": "execute_result"
    }
   ],
   "source": [
    "code_pays_df = pd.read_csv('codespays_fao_isoa3.csv')\n",
    "code_pays_df = code_pays_df[['ISO3', 'FAOSTAT', 'LIST NAME']].dropna()\n",
    "code_pays_df['FAOSTAT'] = code_pays_df['FAOSTAT'].astype(int)\n",
    "code_pays_df.head(2)"
   ]
  },
  {
   "cell_type": "markdown",
   "metadata": {},
   "source": [
    "## Donnée entre la espagne et l'italie\n",
    "le reste est a scrapper"
   ]
  },
  {
   "cell_type": "code",
   "execution_count": 160,
   "metadata": {},
   "outputs": [],
   "source": [
    "## Lit tous les CSV de matrices qui doivent commencer par FAOSTAT\n",
    "matrice_df = iodf.concatenate_csv('FAOSTAT*.csv')\n",
    "\n",
    "## Ajoute les codes ISO au df pour les pays partenaire et déclarant\n",
    "matrice_df = pd.merge(matrice_df, code_pays_df, left_on='Code pays déclarant (FAO)', right_on='FAOSTAT')\n",
    "matrice_df = pd.merge(matrice_df, code_pays_df, left_on='Code pays partenaire (FAO)', right_on='FAOSTAT', suffixes=(None, '_partenaire'))\n",
    "\n",
    "## Clean le nom des colonnes, certaines peuvent disparaitre car en doublon\n",
    "matrice_df.rename(\n",
    "    columns = {\n",
    "        'ISO3': 'Code pays déclarant (ISO)',\n",
    "        'ISO3_partenaire': 'Code pays partenaire (ISO)',\n",
    "        'LIST NAME': 'Pays déclarants (ISO)',\n",
    "        'LIST NAME_partenaire': 'Pays partenaire (ISO)',\n",
    "        'FAOSTAT' : 'Code ISO declarant',\n",
    "        'FAOSTAT_partenaire' : 'Code ISO partenaire',\n",
    "    },\n",
    "    inplace=True\n",
    ")"
   ]
  },
  {
   "cell_type": "code",
   "execution_count": 48,
   "metadata": {},
   "outputs": [
    {
     "data": {
      "text/html": [
       "<div>\n",
       "<style scoped>\n",
       "    .dataframe tbody tr th:only-of-type {\n",
       "        vertical-align: middle;\n",
       "    }\n",
       "\n",
       "    .dataframe tbody tr th {\n",
       "        vertical-align: top;\n",
       "    }\n",
       "\n",
       "    .dataframe thead th {\n",
       "        text-align: right;\n",
       "    }\n",
       "</style>\n",
       "<table border=\"1\" class=\"dataframe\">\n",
       "  <thead>\n",
       "    <tr style=\"text-align: right;\">\n",
       "      <th></th>\n",
       "      <th>Code Domaine</th>\n",
       "      <th>Domaine</th>\n",
       "      <th>Code pays déclarant (FAO)</th>\n",
       "      <th>Pays déclarants</th>\n",
       "      <th>Code pays partenaire (FAO)</th>\n",
       "      <th>Pays partenaires</th>\n",
       "      <th>Code Élément</th>\n",
       "      <th>Élément</th>\n",
       "      <th>Code Produit (FAO)</th>\n",
       "      <th>Produit</th>\n",
       "      <th>...</th>\n",
       "      <th>Unité</th>\n",
       "      <th>Valeur</th>\n",
       "      <th>Symbole</th>\n",
       "      <th>Description du Symbole</th>\n",
       "      <th>Code pays déclarant (ISO)</th>\n",
       "      <th>Code ISO declarant</th>\n",
       "      <th>Pays déclarants (ISO)</th>\n",
       "      <th>Code pays partenaire (ISO)</th>\n",
       "      <th>Code ISO partenaire</th>\n",
       "      <th>Pays partenaire (ISO)</th>\n",
       "    </tr>\n",
       "  </thead>\n",
       "  <tbody>\n",
       "    <tr>\n",
       "      <th>0</th>\n",
       "      <td>TM</td>\n",
       "      <td>Matrices du commerce détaillées</td>\n",
       "      <td>68</td>\n",
       "      <td>France</td>\n",
       "      <td>203</td>\n",
       "      <td>Espagne</td>\n",
       "      <td>5610</td>\n",
       "      <td>Importations - Quantité</td>\n",
       "      <td>809</td>\n",
       "      <td>Abaca, chanvre de manille</td>\n",
       "      <td>...</td>\n",
       "      <td>NaN</td>\n",
       "      <td>NaN</td>\n",
       "      <td>NaN</td>\n",
       "      <td>NaN</td>\n",
       "      <td>FRA</td>\n",
       "      <td>68</td>\n",
       "      <td>France</td>\n",
       "      <td>ESP</td>\n",
       "      <td>203</td>\n",
       "      <td>Spain</td>\n",
       "    </tr>\n",
       "    <tr>\n",
       "      <th>1</th>\n",
       "      <td>TM</td>\n",
       "      <td>Matrices du commerce détaillées</td>\n",
       "      <td>68</td>\n",
       "      <td>France</td>\n",
       "      <td>203</td>\n",
       "      <td>Espagne</td>\n",
       "      <td>5610</td>\n",
       "      <td>Importations - Quantité</td>\n",
       "      <td>809</td>\n",
       "      <td>Abaca, chanvre de manille</td>\n",
       "      <td>...</td>\n",
       "      <td>NaN</td>\n",
       "      <td>NaN</td>\n",
       "      <td>NaN</td>\n",
       "      <td>NaN</td>\n",
       "      <td>FRA</td>\n",
       "      <td>68</td>\n",
       "      <td>France</td>\n",
       "      <td>ESP</td>\n",
       "      <td>203</td>\n",
       "      <td>Spain</td>\n",
       "    </tr>\n",
       "  </tbody>\n",
       "</table>\n",
       "<p>2 rows × 22 columns</p>\n",
       "</div>"
      ],
      "text/plain": [
       "  Code Domaine                          Domaine  Code pays déclarant (FAO)  \\\n",
       "0           TM  Matrices du commerce détaillées                         68   \n",
       "1           TM  Matrices du commerce détaillées                         68   \n",
       "\n",
       "  Pays déclarants  Code pays partenaire (FAO) Pays partenaires  Code Élément  \\\n",
       "0          France                         203          Espagne          5610   \n",
       "1          France                         203          Espagne          5610   \n",
       "\n",
       "                   Élément  Code Produit (FAO)                    Produit  \\\n",
       "0  Importations - Quantité                 809  Abaca, chanvre de manille   \n",
       "1  Importations - Quantité                 809  Abaca, chanvre de manille   \n",
       "\n",
       "   ...  Unité  Valeur Symbole  Description du Symbole  \\\n",
       "0  ...    NaN     NaN     NaN                     NaN   \n",
       "1  ...    NaN     NaN     NaN                     NaN   \n",
       "\n",
       "  Code pays déclarant (ISO) Code ISO declarant Pays déclarants (ISO)  \\\n",
       "0                       FRA                 68                France   \n",
       "1                       FRA                 68                France   \n",
       "\n",
       "   Code pays partenaire (ISO) Code ISO partenaire Pays partenaire (ISO)  \n",
       "0                         ESP                 203                 Spain  \n",
       "1                         ESP                 203                 Spain  \n",
       "\n",
       "[2 rows x 22 columns]"
      ]
     },
     "execution_count": 48,
     "metadata": {},
     "output_type": "execute_result"
    }
   ],
   "source": [
    "matrice_df.head(2)"
   ]
  },
  {
   "cell_type": "code",
   "execution_count": 162,
   "metadata": {},
   "outputs": [
    {
     "data": {
      "text/html": [
       "<div>\n",
       "<style scoped>\n",
       "    .dataframe tbody tr th:only-of-type {\n",
       "        vertical-align: middle;\n",
       "    }\n",
       "\n",
       "    .dataframe tbody tr th {\n",
       "        vertical-align: top;\n",
       "    }\n",
       "\n",
       "    .dataframe thead th {\n",
       "        text-align: right;\n",
       "    }\n",
       "</style>\n",
       "<table border=\"1\" class=\"dataframe\">\n",
       "  <thead>\n",
       "    <tr style=\"text-align: right;\">\n",
       "      <th></th>\n",
       "      <th>Code Domaine</th>\n",
       "      <th>Domaine</th>\n",
       "      <th>Code pays déclarant (FAO)</th>\n",
       "      <th>Pays déclarants</th>\n",
       "      <th>Code pays partenaire (FAO)</th>\n",
       "      <th>Pays partenaires</th>\n",
       "      <th>Code Élément</th>\n",
       "      <th>Élément</th>\n",
       "      <th>Code Produit (FAO)</th>\n",
       "      <th>Produit</th>\n",
       "      <th>...</th>\n",
       "      <th>?l?ment</th>\n",
       "      <th>Code ann?e</th>\n",
       "      <th>Ann?e</th>\n",
       "      <th>Unit?</th>\n",
       "      <th>Code pays déclarant (ISO)</th>\n",
       "      <th>Code ISO declarant</th>\n",
       "      <th>Pays déclarants (ISO)</th>\n",
       "      <th>Code pays partenaire (ISO)</th>\n",
       "      <th>Code ISO partenaire</th>\n",
       "      <th>Pays partenaire (ISO)</th>\n",
       "    </tr>\n",
       "  </thead>\n",
       "  <tbody>\n",
       "  </tbody>\n",
       "</table>\n",
       "<p>0 rows × 29 columns</p>\n",
       "</div>"
      ],
      "text/plain": [
       "Empty DataFrame\n",
       "Columns: [Code Domaine, Domaine, Code pays déclarant (FAO), Pays déclarants, Code pays partenaire (FAO), Pays partenaires, Code Élément, Élément, Code Produit (FAO), Produit, Code année, Année, Unité, Valeur, Symbole, Description du Symbole, Code pays d?clarant (FAO), Pays d?clarants, Code ?l?ment, ?l?ment, Code ann?e, Ann?e, Unit?, Code pays déclarant (ISO), Code ISO declarant, Pays déclarants (ISO), Code pays partenaire (ISO), Code ISO partenaire, Pays partenaire (ISO)]\n",
       "Index: []\n",
       "\n",
       "[0 rows x 29 columns]"
      ]
     },
     "execution_count": 162,
     "metadata": {},
     "output_type": "execute_result"
    }
   ],
   "source": [
    "ressource_code = [515]\n",
    "from_country_iso = 'ITA'\n",
    "to_country_iso = 'FRA'\n",
    "year = [2000]\n",
    "query = f\"`Code Produit (FAO)` in {ressource_code} & `Code pays déclarant (ISO)` == '{from_country_iso}' & `Code pays partenaire (ISO)` == '{to_country_iso}' & `Année` in {year}\"\n",
    "matrice_df.query(query)\n"
   ]
  },
  {
   "cell_type": "code",
   "execution_count": 35,
   "metadata": {},
   "outputs": [
    {
     "name": "stdout",
     "output_type": "stream",
     "text": [
      "\n",
      "`Code Produit (FAO)` == 544 & `Pays déclarants (ISO)` == 'Italy' & `Pays partenaire (ISO)` == 'Spain' & `Année` == 2001\n"
     ]
    },
    {
     "name": "stderr",
     "output_type": "stream",
     "text": [
      "/home/mdm/code/DiMartinoMathieu/Project-Agri/datasets/utils/exchange_plots.py:36: UserWarning: Geometry is in a geographic CRS. Results from 'centroid' are likely incorrect. Use 'GeoSeries.to_crs()' to re-project geometries to a projected CRS before this operation.\n",
      "\n",
      "  from_country_center = from_country.centroid\n",
      "/home/mdm/code/DiMartinoMathieu/Project-Agri/datasets/utils/exchange_plots.py:39: UserWarning: Geometry is in a geographic CRS. Results from 'centroid' are likely incorrect. Use 'GeoSeries.to_crs()' to re-project geometries to a projected CRS before this operation.\n",
      "\n",
      "  to_country_center = to_country.centroid\n"
     ]
    },
    {
     "data": {
      "image/png": "[encoded data removed]",
      "text/plain": [
       "<Figure size 1080x720 with 2 Axes>"
      ]
     },
     "metadata": {},
     "output_type": "display_data"
    }
   ],
   "source": [
    "xplt.explot_country_ressource_year(\n",
    "    df = matrice_df,\n",
    "    from_country_name='Italy',\n",
    "    to_country_name='Spain',\n",
    "    ressource_code=544,\n",
    "    year=2001\n",
    ")"
   ]
  },
  {
   "cell_type": "markdown",
   "metadata": {},
   "source": [
    "## Plot de l'évolution des échanges entre pays"
   ]
  },
  {
   "cell_type": "code",
   "execution_count": 158,
   "metadata": {},
   "outputs": [],
   "source": [
    "ressource_code = [515]\n",
    "from_country_iso = 'ITA'\n",
    "to_country_iso = ['ESP', 'FRA']\n",
    "years = list(np.arange(2000,2020,1, dtype='int'))\n",
    "query = f\"`Code Produit (FAO)` in {ressource_code} & `Code pays déclarant (ISO)` == '{from_country_iso}' & `Code pays partenaire (ISO)` in @to_country_iso & `Année` in {year}\"\n",
    "esp_ita_2000 = matrice_df.query(query)"
   ]
  },
  {
   "cell_type": "code",
   "execution_count": 157,
   "metadata": {},
   "outputs": [],
   "source": [
    "esp_ita_2000.to_csv('test.csv')"
   ]
  },
  {
   "cell_type": "code",
   "execution_count": 153,
   "metadata": {},
   "outputs": [],
   "source": [
    "esp_ita_2000_2001_import_qte = esp_ita_2000[esp_ita_2000['Élément'] == 'Importations - Quantité']\n",
    "esp_ita_2000_2001_export_qte = esp_ita_2000[esp_ita_2000['Élément'] == 'Exportations - Quantité']"
   ]
  },
  {
   "cell_type": "code",
   "execution_count": 154,
   "metadata": {},
   "outputs": [
    {
     "data": {
      "text/plain": [
       "'Pommes'"
      ]
     },
     "execution_count": 154,
     "metadata": {},
     "output_type": "execute_result"
    }
   ],
   "source": [
    "esp_ita_2000_2001_import_qte['Produit'].unique()[0]"
   ]
  },
  {
   "cell_type": "code",
   "execution_count": 155,
   "metadata": {},
   "outputs": [
    {
     "data": {
      "image/png": "[encoded data removed]",
      "text/plain": [
       "<Figure size 864x576 with 1 Axes>"
      ]
     },
     "metadata": {
      "needs_background": "light"
     },
     "output_type": "display_data"
    }
   ],
   "source": [
    "plot_product_name = esp_ita_2000_2001_import_qte['Produit'].unique()[0]\n",
    "plot_unit = esp_ita_2000_2001_import_qte['Unité'].unique()[0]\n",
    "\n",
    "production = crops.query_production(106, 515, years, 'Production')\n",
    "\n",
    "plt.figure(figsize=(12,8))\n",
    "\n",
    "sns.lineplot(\n",
    "    data = production,\n",
    "    x = 'years',\n",
    "    y = 'production',\n",
    "    color='green',\n",
    "    label='Production',\n",
    ")\n",
    "\n",
    "\n",
    "sns.lineplot(\n",
    "    data = esp_ita_2000_2001_import_qte,\n",
    "    x = 'Année',\n",
    "    y = 'Valeur',\n",
    "    label='Import',\n",
    ")\n",
    "\n",
    "sns.lineplot(\n",
    "    data = esp_ita_2000_2001_export_qte,\n",
    "    x = 'Année',\n",
    "    y = 'Valeur',\n",
    "    color='orange',\n",
    "    label='Export',\n",
    ")\n",
    "\n",
    "plt.ylabel(f'Quantité en {plot_unit}')\n",
    "\n",
    "plt.suptitle(\n",
    "    f'Import / Export de {plot_product_name} entre l\\'espagne et l\\'Italie',\n",
    "    fontsize=20\n",
    ");\n"
   ]
  },
  {
   "cell_type": "code",
   "execution_count": 148,
   "metadata": {},
   "outputs": [
    {
     "data": {
      "text/html": [
       "<div>\n",
       "<style scoped>\n",
       "    .dataframe tbody tr th:only-of-type {\n",
       "        vertical-align: middle;\n",
       "    }\n",
       "\n",
       "    .dataframe tbody tr th {\n",
       "        vertical-align: top;\n",
       "    }\n",
       "\n",
       "    .dataframe thead th {\n",
       "        text-align: right;\n",
       "    }\n",
       "</style>\n",
       "<table border=\"1\" class=\"dataframe\">\n",
       "  <thead>\n",
       "    <tr style=\"text-align: right;\">\n",
       "      <th></th>\n",
       "      <th>years</th>\n",
       "      <th>production</th>\n",
       "    </tr>\n",
       "  </thead>\n",
       "  <tbody>\n",
       "    <tr>\n",
       "      <th>0</th>\n",
       "      <td>2000</td>\n",
       "      <td>2232100.0</td>\n",
       "    </tr>\n",
       "    <tr>\n",
       "      <th>1</th>\n",
       "      <td>2001</td>\n",
       "      <td>2299100.0</td>\n",
       "    </tr>\n",
       "    <tr>\n",
       "      <th>2</th>\n",
       "      <td>2002</td>\n",
       "      <td>2199219.0</td>\n",
       "    </tr>\n",
       "    <tr>\n",
       "      <th>3</th>\n",
       "      <td>2003</td>\n",
       "      <td>1953752.0</td>\n",
       "    </tr>\n",
       "    <tr>\n",
       "      <th>4</th>\n",
       "      <td>2004</td>\n",
       "      <td>2136226.0</td>\n",
       "    </tr>\n",
       "    <tr>\n",
       "      <th>5</th>\n",
       "      <td>2005</td>\n",
       "      <td>2192000.0</td>\n",
       "    </tr>\n",
       "    <tr>\n",
       "      <th>6</th>\n",
       "      <td>2006</td>\n",
       "      <td>2130980.0</td>\n",
       "    </tr>\n",
       "    <tr>\n",
       "      <th>7</th>\n",
       "      <td>2007</td>\n",
       "      <td>2230191.0</td>\n",
       "    </tr>\n",
       "    <tr>\n",
       "      <th>8</th>\n",
       "      <td>2008</td>\n",
       "      <td>2210100.0</td>\n",
       "    </tr>\n",
       "    <tr>\n",
       "      <th>9</th>\n",
       "      <td>2009</td>\n",
       "      <td>2325653.0</td>\n",
       "    </tr>\n",
       "    <tr>\n",
       "      <th>10</th>\n",
       "      <td>2010</td>\n",
       "      <td>2204972.0</td>\n",
       "    </tr>\n",
       "    <tr>\n",
       "      <th>11</th>\n",
       "      <td>2011</td>\n",
       "      <td>2411201.0</td>\n",
       "    </tr>\n",
       "    <tr>\n",
       "      <th>12</th>\n",
       "      <td>2012</td>\n",
       "      <td>1991312.0</td>\n",
       "    </tr>\n",
       "    <tr>\n",
       "      <th>13</th>\n",
       "      <td>2013</td>\n",
       "      <td>2216963.0</td>\n",
       "    </tr>\n",
       "    <tr>\n",
       "      <th>14</th>\n",
       "      <td>2014</td>\n",
       "      <td>2473608.0</td>\n",
       "    </tr>\n",
       "    <tr>\n",
       "      <th>15</th>\n",
       "      <td>2015</td>\n",
       "      <td>2473608.0</td>\n",
       "    </tr>\n",
       "    <tr>\n",
       "      <th>16</th>\n",
       "      <td>2016</td>\n",
       "      <td>2455616.0</td>\n",
       "    </tr>\n",
       "    <tr>\n",
       "      <th>17</th>\n",
       "      <td>2017</td>\n",
       "      <td>1921272.0</td>\n",
       "    </tr>\n",
       "    <tr>\n",
       "      <th>18</th>\n",
       "      <td>2018</td>\n",
       "      <td>2466990.0</td>\n",
       "    </tr>\n",
       "    <tr>\n",
       "      <th>19</th>\n",
       "      <td>2019</td>\n",
       "      <td>2303690.0</td>\n",
       "    </tr>\n",
       "  </tbody>\n",
       "</table>\n",
       "</div>"
      ],
      "text/plain": [
       "    years  production\n",
       "0    2000   2232100.0\n",
       "1    2001   2299100.0\n",
       "2    2002   2199219.0\n",
       "3    2003   1953752.0\n",
       "4    2004   2136226.0\n",
       "5    2005   2192000.0\n",
       "6    2006   2130980.0\n",
       "7    2007   2230191.0\n",
       "8    2008   2210100.0\n",
       "9    2009   2325653.0\n",
       "10   2010   2204972.0\n",
       "11   2011   2411201.0\n",
       "12   2012   1991312.0\n",
       "13   2013   2216963.0\n",
       "14   2014   2473608.0\n",
       "15   2015   2473608.0\n",
       "16   2016   2455616.0\n",
       "17   2017   1921272.0\n",
       "18   2018   2466990.0\n",
       "19   2019   2303690.0"
      ]
     },
     "execution_count": 148,
     "metadata": {},
     "output_type": "execute_result"
    }
   ],
   "source": [
    "production"
   ]
  }
 ],
 "metadata": {
  "interpreter": {
   "hash": "4524aa1957c8c9fcf4e7e61006a450062f2be8409c604e08a5f6d2eb83f1b3f9"
  },
  "kernelspec": {
   "display_name": "Python 3 (ipykernel)",
   "language": "python",
   "name": "python3"
  },
  "language_info": {
   "codemirror_mode": {
    "name": "ipython",
    "version": 3
   },
   "file_extension": ".py",
   "mimetype": "text/x-python",
   "name": "python",
   "nbconvert_exporter": "python",
   "pygments_lexer": "ipython3",
   "version": "3.8.12"
  },
  "toc": {
   "base_numbering": 1,
   "nav_menu": {},
   "number_sections": true,
   "sideBar": true,
   "skip_h1_title": true,
   "title_cell": "Table of Contents",
   "title_sidebar": "Contents",
   "toc_cell": false,
   "toc_position": {},
   "toc_section_display": true,
   "toc_window_display": false
  },
  "varInspector": {
   "cols": {
    "lenName": 16,
    "lenType": 16,
    "lenVar": 40
   },
   "kernels_config": {
    "python": {
     "delete_cmd_postfix": "",
     "delete_cmd_prefix": "del ",
     "library": "var_list.py",
     "varRefreshCmd": "print(var_dic_list())"
    },
    "r": {
     "delete_cmd_postfix": ") ",
     "delete_cmd_prefix": "rm(",
     "library": "var_list.r",
     "varRefreshCmd": "cat(var_dic_list()) "
    }
   },
   "types_to_exclude": [
    "module",
    "function",
    "builtin_function_or_method",
    "instance",
    "_Feature"
   ],
   "window_display": false
  }
 },
 "nbformat": 4,
 "nbformat_minor": 2
}
